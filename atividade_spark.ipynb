{
 "cells": [
  {
   "cell_type": "code",
   "execution_count": null,
   "metadata": {},
   "outputs": [],
   "source": [
    "# Atividade desenvolvida para a disciplina de Big Data - Inteligência Artificial Aplicada PUCPR \n",
    "# @priscillapreks "
   ]
  },
  {
   "cell_type": "code",
   "execution_count": 1,
   "metadata": {
    "colab": {
     "base_uri": "https://localhost:8080/"
    },
    "id": "OW3I8CTUSWMH",
    "outputId": "ff2533de-20f4-47f2-a54a-c0b39e4e323e"
   },
   "outputs": [
    {
     "name": "stdout",
     "output_type": "stream",
     "text": [
      "Requirement already satisfied: ibge in /usr/local/lib/python3.7/dist-packages (0.0.5)\n",
      "Requirement already satisfied: requests in /usr/local/lib/python3.7/dist-packages (from ibge) (2.23.0)\n",
      "Requirement already satisfied: urllib3!=1.25.0,!=1.25.1,<1.26,>=1.21.1 in /usr/local/lib/python3.7/dist-packages (from requests->ibge) (1.24.3)\n",
      "Requirement already satisfied: certifi>=2017.4.17 in /usr/local/lib/python3.7/dist-packages (from requests->ibge) (2020.12.5)\n",
      "Requirement already satisfied: chardet<4,>=3.0.2 in /usr/local/lib/python3.7/dist-packages (from requests->ibge) (3.0.4)\n",
      "Requirement already satisfied: idna<3,>=2.5 in /usr/local/lib/python3.7/dist-packages (from requests->ibge) (2.10)\n"
     ]
    }
   ],
   "source": [
    "!pip install ibge\n",
    "from ibge.localidades import *"
   ]
  },
  {
   "cell_type": "markdown",
   "metadata": {
    "id": "gqEjsIt4FrBM"
   },
   "source": [
    "# Atividade Spark \n",
    "\n",
    "Considerando o dataset detalhado a seguir, extraia o conjunto de informações solicitadas.\n",
    "\n",
    "### Dataset dados de COVID no Brasil\n",
    "\n",
    "- Arquivo disponível em URL\n",
    "- Dados relativos a pacientes que realizaram exames de Covid19 no Paraná\n",
    "- ~150MB\n",
    "- ~450 mil de instâncias\n",
    "\n",
    "\n",
    "|  # | Nome do campo        \t| Descrição                                     \t|\n",
    "|----|----------------------\t|-----------------------------------------------\t|\n",
    "|  0 | id                   \t| identificador                                 \t|\n",
    "|  1 | dataNotificacao      \t| Data da notificação                           \t|\n",
    "|  2 | dataInicioSintomas   \t| Data do inicio dos sintomas                   \t|\n",
    "|  3 | dataNascimento       \t| Data de nascimento                            \t|\n",
    "|  4 | sintomas             \t| Sintomas do paciente                          \t|\n",
    "|  5 | profissionalSaude    \t| Relacionado a profissional de saúde           \t|\n",
    "|  6 | cbo                  \t| Ocupação                                      \t|\n",
    "|  7 | condicoes            \t| Condições do paciente                         \t|\n",
    "|  8 | estadoTeste          \t| Estado do teste                               \t|\n",
    "|  9 | dataTeste            \t| Data do teste                                 \t|\n",
    "| 10 | tipoTeste            \t| Tipo de teste realizado                       \t|\n",
    "| 11 | resultadoTeste       \t| Resultado do Teste                            \t|\n",
    "| 12 | paisOrigem           \t| Pais de Origem do paciente                    \t|\n",
    "| 13 | sexo                 \t| Sexo do paciente                              \t|\n",
    "| 14 | bairro               \t| Bairro do paciente                            \t|\n",
    "| 15 | estado               \t| Estado do paciente                            \t|\n",
    "| 16 | estadoIBGE              \t| Estado do paciente IBGE                          \t|\n",
    "| 17 | municipio            \t| Municipio do paciente                         \t|\n",
    "| 18 | municipioIBGE          \t| Municipio do paciente                         \t|\n",
    "| 19 | cep            \t        | CEP                                            \t|\n",
    "| 20 | origem               \t| Origem do paciente                            \t|\n",
    "| 21 | cnes                 \t| Código da unidade de saúde                    \t|\n",
    "| 22 | estadoNotificacao    \t| Estado da notificação                         \t|\n",
    "| 23 | estadoNotificacaoIBGE    | Estado da notificação IBGE                      \t|\n",
    "| 24 | municipioNotificacao \t| Município da notificação                      \t|\n",
    "| 25 | municipioNotificacaoIBGE | Município da notificação IBGE                    \t|\n",
    "| 26 | numeroNotificacao    \t| Número da notificação                         \t|\n",
    "| 27 | excluido             \t| ID de exclusão                                \t|\n",
    "| 28 | validado             \t| Local validação                               \t|\n",
    "| 29 | idade                \t| Idade do paciente                             \t|\n",
    "| 30 | dataEncerramento     \t| Data do encerramento da avaliação do paciente \t|\n",
    "| 31 | evolucaoCaso         \t| Evolução do caso do paciente                  \t|\n",
    "| 32 | classificacaoFinal   \t| Avaliação final do caso                       \t|\n",
    "\n",
    "Informações a serem extraídas:\n",
    "\n",
    "1. Quantidade de pacientes positivos para corona virus (resultadoTeste)\n",
    "2. Quantidade de pacientes do sexo feminino positivos para corona virus (resultadoTeste)\n",
    "3. Quantidade de pacientes de acordo com o sexo e o resultado do teste (resultadoTeste)\n",
    "4. Sintomas mais comuns para casos positivos para corona virus\n",
    "5. Sintomas mais comuns para casos não positivos para corona virus\n",
    "6. Quantidade de casos positivos em Curitiba (municipio)\n",
    "7. Municipio do Paraná com a maior quantidade de óbitos (evolucaoCaso)\n",
    "8. Quantidade de municipios no Paraná com casos positivos\n",
    "9. Quantidade de municipios no Paraná sem casos positivos\n",
    "10. Menor idade de mulher positiva para covid\n",
    "11. Maior idade de mulher positiva para covid\n",
    "12. Quantidade de casos positivos, em granularidade diária, ao longo do tempo \n"
   ]
  },
  {
   "cell_type": "code",
   "execution_count": 2,
   "metadata": {
    "colab": {
     "base_uri": "https://localhost:8080/"
    },
    "id": "7Ft4s69rFrBQ",
    "outputId": "1f9a237b-b5cb-4ed1-d9f6-cf8ec93ea264"
   },
   "outputs": [
    {
     "name": "stdout",
     "output_type": "stream",
     "text": [
      "Pronto =)\n"
     ]
    }
   ],
   "source": [
    "# cria ambiente spark\n",
    "!apt-get install openjdk-8-jdk-headless -qq > /dev/null\n",
    "!wget -q http://www-eu.apache.org/dist/spark/spark-2.4.8/spark-2.4.8-bin-hadoop2.7.tgz\n",
    "!tar xf spark-2.4.8-bin-hadoop2.7.tgz\n",
    "!pip install -q findspark\n",
    "!pip install -q pyspark\n",
    "\n",
    "# inicializa as variáveis\n",
    "import os\n",
    "os.environ[\"JAVA_HOME\"] = \"/usr/lib/jvm/java-8-openjdk-amd64\"\n",
    "os.environ[\"SPARK_HOME\"] = \"/content/spark-2.4.8-bin-hadoop2.7\"\n",
    "\n",
    "#cria ambiente\n",
    "import findspark\n",
    "findspark.init()\n",
    "\n",
    "import pyspark\n",
    "conf = pyspark.SparkConf()\n",
    "conf.setMaster(\"local[*]\")\n",
    "sc = pyspark.SparkContext(conf = conf)\n",
    "\n",
    "#carrega arquivo para RDD\n",
    "import urllib.request\n",
    "urllib.request.urlretrieve(\"https://secplab.ppgia.pucpr.br/ftp/viegas/bigdata/base_parana.csv\",\"base_parana.csv\") \n",
    "\n",
    "rdd = sc.textFile(\"base_parana.csv\")\n",
    "print('Pronto =)')"
   ]
  },
  {
   "cell_type": "markdown",
   "metadata": {
    "id": "0JxSVyU1SNhZ"
   },
   "source": [
    "Arquivo com Exemplos de Código: [link](https://secplab.ppgia.pucpr.br/ftp/viegas/bigdata/Exemplo%20Transforma%c3%a7%c3%b5es%20e%20A%c3%a7%c3%b5es%20Spark.pdf)"
   ]
  },
  {
   "cell_type": "code",
   "execution_count": 3,
   "metadata": {
    "colab": {
     "base_uri": "https://localhost:8080/"
    },
    "id": "zQX6GdybIDAU",
    "outputId": "0f2ac6ba-ae43-4a28-d914-224972437ea7"
   },
   "outputs": [
    {
     "data": {
      "text/plain": [
       "444578"
      ]
     },
     "execution_count": 3,
     "metadata": {
      "tags": []
     },
     "output_type": "execute_result"
    }
   ],
   "source": [
    "# Blocos para executar os exemplos com o professor =) \n",
    "rdd.count()"
   ]
  },
  {
   "cell_type": "code",
   "execution_count": 4,
   "metadata": {
    "colab": {
     "base_uri": "https://localhost:8080/"
    },
    "id": "RflANLTk_Ps3",
    "outputId": "ef67d5b2-1449-4c0f-dbed-13bffede7b5a"
   },
   "outputs": [
    {
     "data": {
      "text/plain": [
       "['id;dataNotificacao;dataInicioSintomas;dataNascimento;sintomas;profissionalSaude;cbo;condicoes;estadoTeste;dataTeste;tipoTeste;resultadoTeste;paisOrigem;sexo;bairro;estado;estadoIBGE;municipio;municipioIBGE;cep;origem;cnes;estadoNotificacao;estadoNotificacaoIBGE;municipioNotificacao;municipioNotificacaoIBGE;numeroNotificacao;excluido;validado;idade;dataEncerramento;evolucaoCaso;classificacaoFinal',\n",
       " 'rBR15eblo5;2020-04-26T16:18:17.903Z;2020-04-20T05:00:00.000Z;1949-10-02T05:00:00.000Z;Dispneia, Outros, Dor de Garganta;Não;null;Doenças cardíacas crônicas;Coletado;2020-04-26T05:00:00.000Z;null;null;undefined;Masculino;PINHAES;PARANÁ;41;Curitiba;4106902;\"\";undefined;2001578;ACRE;12;Rio Branco;1200401;122000440106;undefined;undefined;70;\"\";\"\";\"\"',\n",
       " 'iqLyCC5rDZ;2020-06-04T02:23:23.514Z;2020-05-09T04:00:00.000Z;1986-02-26T03:00:00.000Z;Febre, Tosse, Dor de Garganta;Não;null;null;Concluído;2020-06-02T04:00:00.000Z;TESTE RÁPIDO - ANTICORPO;Positivo;undefined;Masculino;ZONA II;PARANÁ;41;Umuarama;4128104;87504;undefined;undefined;ACRE;12;Rio Branco;1200401;122002548591;undefined;undefined;34;\"\";\"\";\"\"',\n",
       " 'a6WYczdIqA;2020-06-15T12:53:01.262Z;2020-06-01T03:00:00.000Z;1986-10-13T03:00:00.000Z;Tosse;Não;null;null;Concluído;2020-06-01T03:00:00.000Z;TESTE RÁPIDO - ANTÍGENO;Negativo;undefined;Masculino;JD MARIA LUIZA;PARANÁ;41;Cascavel;4104808;85819;undefined;6917291;ACRE;12;Rio Branco;1200401;122003934636;undefined;undefined;33;\"\";\"\";\"\"',\n",
       " 'RreWGULlWz;2020-06-15T14:08:01.688Z;2020-05-25T03:00:00.000Z;1986-10-13T03:00:00.000Z;Tosse;Não;null;null;Concluído;2020-06-01T03:00:00.000Z;TESTE RÁPIDO - ANTICORPO;Negativo;undefined;Masculino;JD MARIA LUIZA;PARANÁ;41;Cascavel;4104808;85819;undefined;6917291;ACRE;12;Rio Branco;1200401;122003955665;undefined;undefined;33;\"\";\"\";\"\"']"
      ]
     },
     "execution_count": 4,
     "metadata": {
      "tags": []
     },
     "output_type": "execute_result"
    }
   ],
   "source": [
    "rdd.take(5)"
   ]
  },
  {
   "cell_type": "code",
   "execution_count": 4,
   "metadata": {
    "id": "q36cZf2dFrBS"
   },
   "outputs": [],
   "source": []
  },
  {
   "cell_type": "code",
   "execution_count": 5,
   "metadata": {
    "colab": {
     "base_uri": "https://localhost:8080/"
    },
    "id": "E-f8AJN6HpxA",
    "outputId": "bc2d24c6-e44f-4608-e438-1616d706162b"
   },
   "outputs": [
    {
     "data": {
      "text/plain": [
       "[('null', 11442),\n",
       " ('Positivo', 53472),\n",
       " ('resultadoTeste', 1),\n",
       " ('Negativo', 379663)]"
      ]
     },
     "execution_count": 5,
     "metadata": {
      "tags": []
     },
     "output_type": "execute_result"
    }
   ],
   "source": [
    "#informacao 1 - Quantidade de pacientes positivos para corona virus (resultadoTeste)\n",
    "\n",
    "rdd.map(lambda linha: linha.split(';')[11])\\\n",
    "  .map(lambda x: [x, 1])\\\n",
    "  .reduceByKey(lambda val1, val2: val1 + val2)\\\n",
    "  .take(5)"
   ]
  },
  {
   "cell_type": "code",
   "execution_count": 6,
   "metadata": {
    "colab": {
     "base_uri": "https://localhost:8080/"
    },
    "id": "DzBQG3XCFrBS",
    "outputId": "d349b556-50d6-4079-c0df-0117275160f4"
   },
   "outputs": [
    {
     "data": {
      "text/plain": [
       "14892"
      ]
     },
     "execution_count": 6,
     "metadata": {
      "tags": []
     },
     "output_type": "execute_result"
    }
   ],
   "source": [
    "#informacao 2 - Quantidade de pacientes do sexo feminino positivos para corona virus (resultadoTeste)\n",
    "\n",
    "rdd.filter(lambda x: 'Feminino' in x.split(';')[13])\\\n",
    "  .filter(lambda x: 'Positivo' in x.split(';')[11])\\\n",
    "  .count()"
   ]
  },
  {
   "cell_type": "code",
   "execution_count": 7,
   "metadata": {
    "colab": {
     "base_uri": "https://localhost:8080/"
    },
    "id": "u6pgyRaQFrBT",
    "outputId": "d95018fd-4c2d-4955-bdc2-e9615f71579c"
   },
   "outputs": [
    {
     "data": {
      "text/plain": [
       "[(('Negativo', 'Masculino'), 163041),\n",
       " (('Negativo', 'Feminino'), 133228),\n",
       " (('Negativo', 'Indefinido'), 83371),\n",
       " (('Positivo', 'Masculino'), 20309),\n",
       " (('Positivo', 'Indefinido'), 18268),\n",
       " (('Positivo', 'Feminino'), 14892),\n",
       " (('resultadoTeste', 'sexo'), 1)]"
      ]
     },
     "execution_count": 7,
     "metadata": {
      "tags": []
     },
     "output_type": "execute_result"
    }
   ],
   "source": [
    "#informacao 3 - Quantidade de pacientes de acordo com o sexo e o resultado do teste (resultadoTeste)\n",
    "\n",
    "rdd.map(lambda x: (x.split(';')[11], x.split(';')[13]))\\\n",
    "  .map(lambda x: [x, 1])\\\n",
    "  .reduceByKey(lambda val1, val2: val1 + val2)\\\n",
    "  .sortBy(lambda x: x[1], ascending=False)\\\n",
    "  .filter(lambda x: 'null' not in x[0])\\\n",
    "  .take(10)"
   ]
  },
  {
   "cell_type": "code",
   "execution_count": 8,
   "metadata": {
    "colab": {
     "base_uri": "https://localhost:8080/"
    },
    "id": "fpdR5WvoFrBT",
    "outputId": "68f616c3-a968-4d8e-f88d-246f8649da56"
   },
   "outputs": [
    {
     "data": {
      "text/plain": [
       "[('Outros: Paciente assintomático', 24481),\n",
       " ('Outros', 16006),\n",
       " ('Tosse', 9839),\n",
       " ('Febre', 7896),\n",
       " ('Dor de Garganta', 6140),\n",
       " ('Dispneia', 2793)]"
      ]
     },
     "execution_count": 8,
     "metadata": {
      "tags": []
     },
     "output_type": "execute_result"
    }
   ],
   "source": [
    "#informacao 4 - Sintomas mais comuns para casos positivos para corona virus\n",
    "\n",
    "rdd.filter(lambda x: 'Positivo' in x.split(';')[11])\\\n",
    "  .map(lambda linha: linha.split(';')[4])\\\n",
    "  .flatMap(lambda x: x.split(', '))\\\n",
    "  .flatMap(lambda x: x.split(','))\\\n",
    "  .map(lambda x: [x, 1])\\\n",
    "  .reduceByKey(lambda val1, val2: val1 + val2)\\\n",
    "  .sortBy(lambda x: x[1], ascending=False)\\\n",
    "  .take(6)"
   ]
  },
  {
   "cell_type": "code",
   "execution_count": 9,
   "metadata": {
    "colab": {
     "base_uri": "https://localhost:8080/"
    },
    "id": "s7gqSSuaFrBT",
    "outputId": "e83be09d-dc8f-447c-c1d1-8563eae408e1"
   },
   "outputs": [
    {
     "data": {
      "text/plain": [
       "[('Outros: Paciente assintomático', 260902),\n",
       " ('Outros', 70539),\n",
       " ('Tosse', 41852),\n",
       " ('Dor de Garganta', 28722),\n",
       " ('Febre', 25784),\n",
       " ('Dispneia', 12933)]"
      ]
     },
     "execution_count": 9,
     "metadata": {
      "tags": []
     },
     "output_type": "execute_result"
    }
   ],
   "source": [
    "#informacao 5 - Sintomas mais comuns para casos não positivos para corona virus\n",
    "\n",
    "rdd.filter(lambda x: 'Positivo' not in x.split(';')[11])\\\n",
    "  .map(lambda linha: linha.split(';')[4])\\\n",
    "  .flatMap(lambda x: x.split(', '))\\\n",
    "  .flatMap(lambda x: x.split(','))\\\n",
    "  .map(lambda x: [x, 1])\\\n",
    "  .reduceByKey(lambda val1, val2: val1 + val2)\\\n",
    "  .sortBy(lambda x: x[1], ascending=False)\\\n",
    "  .take(6)"
   ]
  },
  {
   "cell_type": "code",
   "execution_count": 10,
   "metadata": {
    "colab": {
     "base_uri": "https://localhost:8080/"
    },
    "id": "2TQWQIFnFrBT",
    "outputId": "a4b9576d-2bc7-4774-af50-e61695b32a31"
   },
   "outputs": [
    {
     "data": {
      "text/plain": [
       "48903"
      ]
     },
     "execution_count": 10,
     "metadata": {
      "tags": []
     },
     "output_type": "execute_result"
    }
   ],
   "source": [
    "#informacao 6 - Quantidade de casos positivos em Curitiba (municipio)\n",
    "\n",
    "rdd.filter(lambda x: 'Positivo' in x.split(';')[11])\\\n",
    "  .filter(lambda x: 'Curitiba' in x.split(';')[24])\\\n",
    "  .count()"
   ]
  },
  {
   "cell_type": "code",
   "execution_count": 11,
   "metadata": {
    "colab": {
     "base_uri": "https://localhost:8080/"
    },
    "id": "Hba4VttFFrBU",
    "outputId": "06d57c8f-d6ad-45c1-9b28-3e09e6b91c7c"
   },
   "outputs": [
    {
     "data": {
      "text/plain": [
       "[('Foz do Iguaçu', 28),\n",
       " ('Curitiba', 25),\n",
       " ('Pinhais', 5),\n",
       " ('Toledo', 5),\n",
       " ('Londrina', 4)]"
      ]
     },
     "execution_count": 11,
     "metadata": {
      "tags": []
     },
     "output_type": "execute_result"
    }
   ],
   "source": [
    "#informacao 7 - Municipio do Paraná com a maior quantidade de óbitos (evolucaoCaso)\n",
    "\n",
    "rdd.filter(lambda x: 'PARANÁ' in x.split(';')[22])\\\n",
    "  .filter(lambda x: 'Óbito' in x.split(';')[31])\\\n",
    "  .map(lambda x: (x.split(';')[24]))\\\n",
    "  .map(lambda x: [x, 1])\\\n",
    "  .reduceByKey(lambda val1, val2: val1 + val2)\\\n",
    "  .sortBy(lambda x: x[1], ascending=False)\\\n",
    "  .take(5)"
   ]
  },
  {
   "cell_type": "markdown",
   "metadata": {
    "id": "UNCryv31ZUpC"
   },
   "source": [
    "---\n",
    "\n"
   ]
  },
  {
   "cell_type": "code",
   "execution_count": 12,
   "metadata": {
    "colab": {
     "base_uri": "https://localhost:8080/"
    },
    "id": "vungmU2dFrBU",
    "outputId": "5d9ea1c4-1fa7-4e3b-87c5-b89efbeb69a4"
   },
   "outputs": [
    {
     "data": {
      "text/plain": [
       "97"
      ]
     },
     "execution_count": 12,
     "metadata": {
      "tags": []
     },
     "output_type": "execute_result"
    }
   ],
   "source": [
    "#informacao 8 - Quantidade de municipios no Paraná com casos positivos\n",
    "\n",
    "rdd.filter(lambda x: 'PARANÁ' in x.split(';')[22])\\\n",
    "  .filter(lambda x: 'Positivo' in x.split(';')[11])\\\n",
    "  .map(lambda x: (x.split(';')[24]))\\\n",
    "  .distinct().count()"
   ]
  },
  {
   "cell_type": "code",
   "execution_count": 13,
   "metadata": {
    "colab": {
     "base_uri": "https://localhost:8080/"
    },
    "id": "VlOj89JIFrBU",
    "outputId": "12043cb2-947b-4ddb-e47c-96f95bb550ce"
   },
   "outputs": [
    {
     "data": {
      "text/plain": [
       "412"
      ]
     },
     "execution_count": 13,
     "metadata": {
      "tags": []
     },
     "output_type": "execute_result"
    }
   ],
   "source": [
    "#informacao 9 - Quantidade de municipios no Paraná sem casos positivos\n",
    "\n",
    "rdd.filter(lambda x: 'PARANÁ' in x.split(';')[22])\\\n",
    "  .filter(lambda x: 'Positivo' not in x.split(';')[11])\\\n",
    "  .map(lambda x: x.split(';')[24])\\\n",
    "  .distinct().count()"
   ]
  },
  {
   "cell_type": "markdown",
   "metadata": {
    "id": "PbXpOBFsYzly"
   },
   "source": [
    "obs. tem cadastros errados"
   ]
  },
  {
   "cell_type": "code",
   "execution_count": 14,
   "metadata": {
    "colab": {
     "base_uri": "https://localhost:8080/"
    },
    "id": "uvhb50ibUFCI",
    "outputId": "620169e6-56b8-4ca7-ce07-5de9011535df"
   },
   "outputs": [
    {
     "data": {
      "text/plain": [
       "399"
      ]
     },
     "execution_count": 14,
     "metadata": {
      "tags": []
     },
     "output_type": "execute_result"
    }
   ],
   "source": [
    "# Total de municípios do PR\n",
    "ibge_pr = MunicipioPorUF('41') #Paraná\n",
    "municipios_pr = ibge_pr.getNome() # nomes dos municípios\n",
    "len(municipios_pr)"
   ]
  },
  {
   "cell_type": "code",
   "execution_count": 15,
   "metadata": {
    "colab": {
     "base_uri": "https://localhost:8080/"
    },
    "id": "21_nUa47ZLiS",
    "outputId": "d012e0d4-cd28-4532-f1ee-45366e4a1744"
   },
   "outputs": [
    {
     "data": {
      "text/plain": [
       "81"
      ]
     },
     "execution_count": 15,
     "metadata": {
      "tags": []
     },
     "output_type": "execute_result"
    }
   ],
   "source": [
    "#informacao 8 --- filtrando os municípios de notificação\n",
    "\n",
    "rdd.filter(lambda x: x.split(';')[24] in municipios_pr)\\\n",
    "  .filter(lambda x: 'Positivo' in x.split(';')[11])\\\n",
    "  .map(lambda x: x.split(';')[24])\\\n",
    "  .distinct().count()"
   ]
  },
  {
   "cell_type": "code",
   "execution_count": 16,
   "metadata": {
    "colab": {
     "base_uri": "https://localhost:8080/"
    },
    "id": "TbODTMPOU9QB",
    "outputId": "4473701a-f58a-45dc-d174-830d2b037883"
   },
   "outputs": [
    {
     "data": {
      "text/plain": [
       "277"
      ]
     },
     "execution_count": 16,
     "metadata": {
      "tags": []
     },
     "output_type": "execute_result"
    }
   ],
   "source": [
    "#informacao 9 --- filtrando os municípios de notificação\n",
    "\n",
    "rdd.filter(lambda x: x.split(';')[24] in municipios_pr)\\\n",
    "  .filter(lambda x: 'Positivo' not in x.split(';')[11])\\\n",
    "  .map(lambda x: x.split(';')[24])\\\n",
    "  .distinct().count()"
   ]
  },
  {
   "cell_type": "markdown",
   "metadata": {
    "id": "3bn4jK5fZ6WP"
   },
   "source": [
    "* 41 municípios não fizeram testes.    \n",
    "    \n",
    "       \n",
    "       \n",
    "---\n",
    "\n"
   ]
  },
  {
   "cell_type": "code",
   "execution_count": 17,
   "metadata": {
    "colab": {
     "base_uri": "https://localhost:8080/",
     "height": 35
    },
    "id": "pdrYCEgjFrBV",
    "outputId": "d3082615-3441-406f-b289-8f9491c069cb"
   },
   "outputs": [
    {
     "data": {
      "application/vnd.google.colaboratory.intrinsic+json": {
       "type": "string"
      },
      "text/plain": [
       "'0'"
      ]
     },
     "execution_count": 17,
     "metadata": {
      "tags": []
     },
     "output_type": "execute_result"
    }
   ],
   "source": [
    "#informacao 10 - Menor idade de mulher positiva para covid\n",
    "\n",
    "rdd.filter(lambda x: 'Feminino' in x.split(';')[13])\\\n",
    "  .filter(lambda x: 'Positivo' in x.split(';')[11])\\\n",
    "  .map(lambda x: (x.split(';')[29]))\\\n",
    "  .min()"
   ]
  },
  {
   "cell_type": "code",
   "execution_count": 18,
   "metadata": {
    "colab": {
     "base_uri": "https://localhost:8080/",
     "height": 35
    },
    "id": "YXD1aNjPFrBV",
    "outputId": "5d4abd58-7bd6-45d6-ff0f-f80d5cfb7a0a"
   },
   "outputs": [
    {
     "data": {
      "application/vnd.google.colaboratory.intrinsic+json": {
       "type": "string"
      },
      "text/plain": [
       "'953'"
      ]
     },
     "execution_count": 18,
     "metadata": {
      "tags": []
     },
     "output_type": "execute_result"
    }
   ],
   "source": [
    "#informacao 11 - Maior idade de mulher positiva para covid\n",
    "\n",
    "rdd.filter(lambda x: 'Feminino' in x.split(';')[13])\\\n",
    "  .filter(lambda x: 'Positivo' in x.split(';')[11])\\\n",
    "  .map(lambda x: x.split(';')[29])\\\n",
    "  .max()"
   ]
  },
  {
   "cell_type": "code",
   "execution_count": 19,
   "metadata": {
    "colab": {
     "base_uri": "https://localhost:8080/"
    },
    "id": "h7ESOzfOUMMr",
    "outputId": "a9ac5485-82cc-4a49-a1d2-772e1450545b"
   },
   "outputs": [
    {
     "data": {
      "text/plain": [
       "['953', '953', '95']"
      ]
     },
     "execution_count": 19,
     "metadata": {
      "tags": []
     },
     "output_type": "execute_result"
    }
   ],
   "source": [
    "rdd.filter(lambda x: 'Feminino' in x.split(';')[13])\\\n",
    "  .filter(lambda x: 'Positivo' in x.split(';')[11])\\\n",
    "  .sortBy(lambda x: x.split(';')[29], ascending=False)\\\n",
    "  .map(lambda x: x.split(';')[29])\\\n",
    "  .take(3)"
   ]
  },
  {
   "cell_type": "code",
   "execution_count": 20,
   "metadata": {
    "colab": {
     "base_uri": "https://localhost:8080/"
    },
    "id": "o3Qc8t51FrBV",
    "outputId": "d0cbd163-065f-435c-d235-adfe96d6830c"
   },
   "outputs": [
    {
     "data": {
      "text/plain": [
       "[('null', 4),\n",
       " ('2020-08-02', 47),\n",
       " ('2020-08-01', 1676),\n",
       " ('2020-07-31', 3571),\n",
       " ('2020-07-30', 3627),\n",
       " ('2020-07-29', 4077),\n",
       " ('2020-07-28', 745),\n",
       " ('2020-07-27', 107),\n",
       " ('2020-07-26', 32),\n",
       " ('2020-07-25', 60),\n",
       " ('2020-07-24', 182),\n",
       " ('2020-07-23', 132),\n",
       " ('2020-07-22', 215),\n",
       " ('2020-07-21', 653),\n",
       " ('2020-07-20', 134),\n",
       " ('2020-07-19', 49),\n",
       " ('2020-07-18', 1927),\n",
       " ('2020-07-17', 3320),\n",
       " ('2020-07-16', 127),\n",
       " ('2020-07-15', 141)]"
      ]
     },
     "execution_count": 20,
     "metadata": {
      "tags": []
     },
     "output_type": "execute_result"
    }
   ],
   "source": [
    "#informacao 12 - Quantidade de casos positivos, em granularidade diária, ao longo do tempo\n",
    "\n",
    "rdd.filter(lambda x: 'Positivo' in x.split(';')[11])\\\n",
    "  .map(lambda x: (x.split(';')[1]))\\\n",
    "  .map(lambda x: [x[:10], 1])\\\n",
    "  .reduceByKey(lambda val1, val2: val1 + val2)\\\n",
    "  .sortBy(lambda x: x[0], ascending=False)\\\n",
    "  .take(20)\n"
   ]
  },
  {
   "cell_type": "code",
   "execution_count": 20,
   "metadata": {
    "id": "mkfbsXhTH_HP"
   },
   "outputs": [],
   "source": []
  },
  {
   "cell_type": "code",
   "execution_count": 20,
   "metadata": {
    "id": "Zpc8LCdBH_VE"
   },
   "outputs": [],
   "source": []
  }
 ],
 "metadata": {
  "colab": {
   "collapsed_sections": [],
   "name": "AtividadeSpark-Priscilla-2.ipynb",
   "provenance": []
  },
  "kernelspec": {
   "display_name": "Python 3",
   "language": "python",
   "name": "python3"
  },
  "language_info": {
   "codemirror_mode": {
    "name": "ipython",
    "version": 3
   },
   "file_extension": ".py",
   "mimetype": "text/x-python",
   "name": "python",
   "nbconvert_exporter": "python",
   "pygments_lexer": "ipython3",
   "version": "3.6.5"
  }
 },
 "nbformat": 4,
 "nbformat_minor": 1
}
